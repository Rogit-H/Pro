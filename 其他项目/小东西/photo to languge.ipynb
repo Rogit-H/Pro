{
 "cells": [
  {
   "cell_type": "code",
   "execution_count": 1,
   "metadata": {},
   "outputs": [
    {
     "name": "stderr",
     "output_type": "stream",
     "text": [
      "D:\\Tools\\Anaconda3\\lib\\site-packages\\numpy\\_distributor_init.py:32: UserWarning: loaded more than 1 DLL from .libs:\n",
      "D:\\Tools\\Anaconda3\\lib\\site-packages\\numpy\\.libs\\libopenblas.IPBC74C7KURV7CB2PKT5Z5FNR3SIBV4J.gfortran-win_amd64.dll\n",
      "D:\\Tools\\Anaconda3\\lib\\site-packages\\numpy\\.libs\\libopenblas.PYQHXLVVQ7VESDPUVUADXEVJOBGHJPAY.gfortran-win_amd64.dll\n",
      "  stacklevel=1)\n"
     ]
    }
   ],
   "source": [
    "from sklearn import feature_extraction\n",
    "from sklearn.feature_extraction.text import TfidfTransformer\n",
    "from sklearn.feature_extraction.text import CountVectorizer\n",
    "import numpy as np\n",
    "import pkuseg\n",
    "\n",
    "from aip import AipOcr"
   ]
  },
  {
   "cell_type": "code",
   "execution_count": 2,
   "metadata": {},
   "outputs": [],
   "source": [
    "\n",
    "\"\"\" 你的 APPID AK SK \"\"\"\n",
    "APP_ID = '17832505'\n",
    "API_KEY = 'PvFsUu3rGS9GLTX5fUqyqfy6'\n",
    "SECRET_KEY = 'nXbz8SqbCozcqSuQ2DcWL0rLp5YzeMv7'\n",
    "\n",
    "client = AipOcr(APP_ID, API_KEY, SECRET_KEY)"
   ]
  },
  {
   "cell_type": "code",
   "execution_count": 8,
   "metadata": {},
   "outputs": [],
   "source": [
    "#文字清理\n",
    "def is_chinese(uchar):\n",
    "    if uchar >=u'\\u4e00' and uchar <= u'\\u9fa5':\n",
    "        return True\n",
    "    else:\n",
    "        return False\n",
    "    \n",
    "def format_str(content):\n",
    "    content_str = ''\n",
    "    for i in content:\n",
    "        if is_chinese(i):\n",
    "            content_str = content_str + i\n",
    "    return content_str"
   ]
  },
  {
   "cell_type": "code",
   "execution_count": null,
   "metadata": {},
   "outputs": [],
   "source": [
    "if __name__==\"__main__\":\n",
    "    corpus = []\n",
    "    for name in filenames:\n",
    "        with open(name, 'r', encoding='UTF-8') as f:\n",
    "            str = f.read()\n",
    "            str = format_str(str)\n",
    "            str = seg.cut(str)\n",
    "            corpus.append(\" \".join(str))"
   ]
  },
  {
   "cell_type": "code",
   "execution_count": 42,
   "metadata": {},
   "outputs": [
    {
     "name": "stdout",
     "output_type": "stream",
     "text": [
      "{'words': '此刻诸人的目光都在叶伏天和杨修两人身上,前方'}\n",
      "{'words': '看台青州学宫的长者中又走出一人,对杨修道:“莫非'}\n",
      "{'words': '你要来亲自阅卷不成?'}\n",
      "{'words': '“学生不敢。”杨修摇头,道:“只是想知道考卷'}\n",
      "{'words': '中他对我错的地方,请老师指教。'}\n",
      "{'words': '青州学宫的长者沉吟了片刻,随即一人点头道'}\n",
      "{'words': '好,杨修,既然你质疑,那便成全你。'}\n",
      "{'words': '诸学员以及看台上的诸人都安静了,他们也好奇,'}\n"
     ]
    }
   ],
   "source": [
    "\"\"\" 读取图片 \"\"\"\n",
    "\"\"\" 图片转文字 \"\"\"\n",
    "def get_file_content(filePath):\n",
    "    with open(filePath, 'rb') as fp:\n",
    "        return fp.read()\n",
    "\n",
    "#options = {}\n",
    "#options[\"language_type\"] = \"CHN_ENG\"\n",
    "#options[\"detect_direction\"] = \"true\"\n",
    "#options[\"detect_language\"] = \"true\"\n",
    "#options[\"probability\"] = \"true\"\n",
    "\n",
    "\n",
    "image = get_file_content('0.png')\n",
    "wenzi = client.basicGeneral(image)\n",
    "\n",
    "#print(wenzi)\n",
    "#wenzi = format_str(wenzi)\n",
    "\n",
    "x = wenzi.get('words_result')\n",
    "\n",
    "#保存列表\n",
    "#file=open('小说.txt','w') \n",
    "#file.write(str(x)); \n",
    "#file.close()\n",
    "\n",
    "for i in range(8):\n",
    "    #str = format_str(str)\n",
    "    print(x[i])"
   ]
  },
  {
   "cell_type": "code",
   "execution_count": 35,
   "metadata": {},
   "outputs": [
    {
     "data": {
      "text/plain": [
       "True"
      ]
     },
     "execution_count": 35,
     "metadata": {},
     "output_type": "execute_result"
    }
   ],
   "source": [
    "#函数类型判断：dict、list、str\n",
    "isinstance(x, list)"
   ]
  }
 ],
 "metadata": {
  "kernelspec": {
   "display_name": "Python 3",
   "language": "python",
   "name": "python3"
  },
  "language_info": {
   "codemirror_mode": {
    "name": "ipython",
    "version": 3
   },
   "file_extension": ".py",
   "mimetype": "text/x-python",
   "name": "python",
   "nbconvert_exporter": "python",
   "pygments_lexer": "ipython3",
   "version": "3.7.0"
  }
 },
 "nbformat": 4,
 "nbformat_minor": 2
}
