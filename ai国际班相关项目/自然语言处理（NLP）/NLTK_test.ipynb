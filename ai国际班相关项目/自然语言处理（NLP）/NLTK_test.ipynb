{
 "cells": [
  {
   "cell_type": "code",
   "execution_count": 3,
   "metadata": {},
   "outputs": [],
   "source": [
    "#使用NLTk训练感情分析器\n",
    "\n",
    "import nltk.classify.util\n",
    "import nltk\n",
    "from nltk.classify import NaiveBayesClassifier\n",
    "from nltk.corpus import movie_reviews\n"
   ]
  },
  {
   "cell_type": "code",
   "execution_count": 8,
   "metadata": {},
   "outputs": [],
   "source": [
    "if __name__ == '__main__':\n",
    "    positive_fileids = movie_reviews.fileids('pos')\n",
    "    negative_fileids = movie_reviews.fileids('neg')\n",
    "\n",
    "#定义一个函数，用来提取特征数据\n",
    "def extract_features(word_list):\n",
    "    return dict([(word,True) for word in word_list])\n",
    "\n",
    "#将语料库中的数据通过刚才定义的函数提取处来\n",
    "features_positive = [(extract_features(movie_reviews.words(fileids=[f])), 'Positive') for f in positive_fileids]\n",
    "features_negative = [(extract_features(movie_reviews.words(fileids=[f])), 'Negative') for f in negative_fileids]\n"
   ]
  },
  {
   "cell_type": "code",
   "execution_count": 11,
   "metadata": {},
   "outputs": [],
   "source": [
    "#将数据分成训练数据和测试数据\n",
    "threshold_factor = 0.8\n",
    "threshold_positive = int(threshold_factor*len(features_positive))\n",
    "threshold_negative = int(threshold_factor*len(features_negative))\n",
    "\n",
    "features_train = features_positive[:threshold_positive] + features_negative[:threshold_negative]\n",
    "\n",
    "features_test = features_positive[threshold_positive:] + features_negative[threshold_negative:]\n"
   ]
  },
  {
   "cell_type": "code",
   "execution_count": 12,
   "metadata": {},
   "outputs": [
    {
     "name": "stdout",
     "output_type": "stream",
     "text": [
      "\n",
      "Accuracy of the classifier: 0.735\n"
     ]
    }
   ],
   "source": [
    "#使用朴素贝叶斯分类器训练\n",
    "classifier = NaiveBayesClassifier.train(features_train)\n",
    "print(\"\\nAccuracy of the classifier:\",\n",
    "      nltk.classify.util.accuracy(classifier, features_test))"
   ]
  },
  {
   "cell_type": "code",
   "execution_count": 29,
   "metadata": {},
   "outputs": [
    {
     "name": "stdout",
     "output_type": "stream",
     "text": [
      "\n",
      "Top 10 most informative words:\n",
      "outstanding\n",
      "insulting\n",
      "vulnerable\n",
      "ludicrous\n",
      "uninvolving\n",
      "astounding\n",
      "avoids\n",
      "fascination\n",
      "symbol\n",
      "darker\n"
     ]
    }
   ],
   "source": [
    "#分类器对象中存有从训练数据中获取的对语义最有影响的单词，我们将它们输出\n",
    "print(\"\\nTop 10 most informative words:\")\n",
    "for item in classifier.most_informative_features()[:10]:\n",
    "    print(item[0])"
   ]
  },
  {
   "cell_type": "code",
   "execution_count": 21,
   "metadata": {},
   "outputs": [],
   "source": [
    "#给一些输入文本\n",
    "input_reviews = [\n",
    "    \"It is an amazing movie\",\n",
    "    \"This is a dull movie. I would never recommend it to anyone.\",\n",
    "    \"A complete and utter destruction of one of the most iconic superheroes. 0.1 effort and thought put into the storyline. A coming of age awkward teenage movie with a 'spiderman' stamp put on it. Bad jokes aimed at teenagers (at best). A complete caricature of a villain,a complete caricature of a Spiderman. Just please stop making this garbage Put some god damn effort! A total waste of time\",\n",
    "    \"Just staving off some negative reviews. Fits well into the Marvel movies to date and is an excellent follow up to Avengers: Endgame.\"\n",
    "   \n",
    "    ]"
   ]
  },
  {
   "cell_type": "code",
   "execution_count": 27,
   "metadata": {},
   "outputs": [],
   "source": [
    "input_reviews = [\n",
    "    \"It is a good movie\"\n",
    "    \n",
    "                ]"
   ]
  },
  {
   "cell_type": "code",
   "execution_count": 28,
   "metadata": {},
   "outputs": [
    {
     "name": "stdout",
     "output_type": "stream",
     "text": [
      "\n",
      "Predictions:\n",
      "\n",
      "Review: It is a good movie\n",
      "Predicted sentiment: Negative\n",
      "Probavility: 0.52\n"
     ]
    }
   ],
   "source": [
    "#用我们之前训练出来的分类器预测这些文本的分类\n",
    "print(\"\\nPredictions:\")\n",
    "for review in input_reviews:\n",
    "    print(\"\\nReview:\", review)\n",
    "    probdist = classifier.prob_classify(extract_features(review.split()))\n",
    "    pred_sentiment = probdist.max()\n",
    "    print(\"Predicted sentiment:\", pred_sentiment)\n",
    "    print(\"Probavility:\", round(probdist.prob(pred_sentiment), 2))"
   ]
  },
  {
   "cell_type": "code",
   "execution_count": null,
   "metadata": {},
   "outputs": [],
   "source": []
  }
 ],
 "metadata": {
  "kernelspec": {
   "display_name": "Python 3",
   "language": "python",
   "name": "python3"
  },
  "language_info": {
   "codemirror_mode": {
    "name": "ipython",
    "version": 3
   },
   "file_extension": ".py",
   "mimetype": "text/x-python",
   "name": "python",
   "nbconvert_exporter": "python",
   "pygments_lexer": "ipython3",
   "version": "3.7.0"
  }
 },
 "nbformat": 4,
 "nbformat_minor": 2
}
