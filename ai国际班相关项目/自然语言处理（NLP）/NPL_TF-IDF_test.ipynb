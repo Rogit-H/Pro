{
 "cells": [
  {
   "cell_type": "code",
   "execution_count": 35,
   "metadata": {},
   "outputs": [],
   "source": [
    "from sklearn import feature_extraction\n",
    "from sklearn.feature_extraction.text import TfidfTransformer\n",
    "from sklearn.feature_extraction.text import CountVectorizer\n",
    "import numpy as np\n",
    "import pkuseg"
   ]
  },
  {
   "cell_type": "code",
   "execution_count": 36,
   "metadata": {},
   "outputs": [
    {
     "name": "stdout",
     "output_type": "stream",
     "text": [
      "['多种', '优化器', '选择', '，', '用来', '更新', '和', '计算', '影响', '模型', '训练', '和', '模型', '输出', '的', '网络', '参数', '，', '使', '其', '逼近', '或', '达到', '最', '优值', '从而', '最小化', '或', '最大化', '损失', '函数', '。', '是', '一', '种', '实现', '梯度', '下降', '的', '模型', '.']\n"
     ]
    }
   ],
   "source": [
    "seg = pkuseg.pkuseg()\n",
    "\n",
    "if __name__==\"__main__\":\n",
    "    print(seg.cut(\"多种优化器选择，用来更新和计算影响模型训练和模型输出的网络参数，使其逼近或达到最优值从而最小化或最大化损失函数。是一种实现梯度下降的模型.\"))\n"
   ]
  },
  {
   "cell_type": "code",
   "execution_count": 37,
   "metadata": {},
   "outputs": [],
   "source": [
    "def is_chinese(uchar):\n",
    "    if uchar >=u'\\u4e00' and uchar <= u'\\u9fa5':\n",
    "        return True\n",
    "    else:\n",
    "        return False\n",
    "    \n",
    "def format_str(content):\n",
    "    content_str = ''\n",
    "    for i in content:\n",
    "        if is_chinese(i):\n",
    "            content_str = content_str + i\n",
    "    return content_str"
   ]
  },
  {
   "cell_type": "code",
   "execution_count": 38,
   "metadata": {},
   "outputs": [],
   "source": [
    "filenames = [ \"d.txt\", \"e.txt\", \"f.txt\"]\n",
    "#\"a.txt\", \"b.txt\", \"c.txt\",\n",
    "\n",
    "if __name__==\"__main__\":\n",
    "    corpus = []\n",
    "    for name in filenames:\n",
    "        with open(name, 'r', encoding='UTF-8') as f:\n",
    "            str = f.read()\n",
    "            str = format_str(str)\n",
    "            str = seg.cut(str)\n",
    "            corpus.append(\" \".join(str))\n",
    "    \n",
    "    vectorizer = CountVectorizer()\n",
    "    #该类会将文本中的词语转换为词频矩阵，矩阵元素a[i][j] 表示j词在i类文本下的词频\n",
    "    transformer = TfidfTransformer()\n",
    "    #该类会统计每个词语的tf-idf权值\n",
    "    \n",
    "    tfidf = transformer.fit_transform(vectorizer.fit_transform(corpus))\n",
    "    #第一个fit_transform是计算tf-idf，第二个fit_transform是将文本转为词频矩阵\n",
    "    \n",
    "    word = vectorizer.get_feature_names()\n",
    "    #获取词袋模型中的所有词语\n",
    "    \n",
    "    weight = tfidf.toarray()\n",
    "    #将tf-idf矩阵抽取出来，元素a[i][j]表示j词在i类文本中的tf-idf权重\n",
    "    \n",
    "    "
   ]
  },
  {
   "cell_type": "code",
   "execution_count": 39,
   "metadata": {},
   "outputs": [
    {
     "name": "stdout",
     "output_type": "stream",
     "text": [
      "d.txt : \n",
      "1 公交 0.3564988264502423\n",
      "2 手机 0.3055704226716362\n",
      "3 更加 0.20371361511442415\n",
      "4 查询 0.20371361511442415\n",
      "5 出行 0.20371361511442415\n",
      "\n",
      "e.txt : \n",
      "1 公交车 0.38113812999905594\n",
      "2 通过 0.21779321714231767\n",
      "3 线路 0.21779321714231767\n",
      "4 城市 0.16563735535561205\n",
      "5 出行 0.16563735535561205\n",
      "\n",
      "f.txt : \n",
      "1 快递 0.5216367118918553\n",
      "2 配送 0.3353378862161927\n",
      "3 行业 0.26081835594592767\n",
      "4 快件 0.18629882567566264\n",
      "5 系统 0.15404352258359\n",
      "\n"
     ]
    }
   ],
   "source": [
    "for (name, w) in zip(filenames, weight):\n",
    "    print(name,\": \")\n",
    "    loc = np.argsort(-w)\n",
    "    for i in range(5):\n",
    "        print(i+1, word[loc[i]], w[loc[i]])\n",
    "    print(\"\")\n",
    "    "
   ]
  },
  {
   "cell_type": "code",
   "execution_count": 40,
   "metadata": {},
   "outputs": [
    {
     "name": "stdout",
     "output_type": "stream",
     "text": [
      "美国否认拟从韩国撤出部分驻军\n",
      "新华社华盛顿11月21日电（记者刘阳　刘晨）美国国防部21日发表声明，否认关于美国拟从韩国撤出部分驻军的新闻报道。\n",
      "　　声明援引美国国防部发言人乔纳森·霍夫曼的话说，韩国《朝鲜日报》关于美国国防部考虑从朝鲜半岛撤军的报道“完全不属实”，“我们要求《朝鲜日报》立即撤回这一报道”。\n",
      "　　《朝鲜日报》21日早些时候援引华盛顿一名外交人士的话报道，如果驻韩美军防卫费分担谈判达不到美方要求，美国考虑从韩国撤出“一个旅”的军力，估计3000至4000人。\n",
      "　　美国自1953年起在韩国派驻军队，目前驻韩美军人数约为2.85万。韩美今年年初达成第10份《防卫费分担特别协定》，约定2019年韩国承担驻韩美军防卫费超过1万亿韩元（约合8.9亿美元），协定有效期为1年。\n",
      "　　韩美近来就新的防卫费分担协定展开多轮磋商，因双方分歧过大，谈判无果而终。据韩国媒体报道，美方有意要求韩方明年负担将近50亿美元的驻韩美军防卫费。美方态度引起不少韩国民众不满，韩国多个民间团体指责美方要求是“勒索韩国纳税人的钱”。\n"
     ]
    }
   ],
   "source": [
    "import os\n",
    "\n",
    "filenames = [\"c.txt\"]\n",
    "#\"a.txt\", \"b.txt\", \"c.txt\",\" d.txt\", \"e.txt\", \"f.txt\"\n",
    "\n",
    "if __name__==\"__main__\":\n",
    "    file = open(filenames[0], 'r', encoding='UTF-8')\n",
    "    fsize = os.path.getsize(filenames[0])\n",
    "    h = file.read(fsize)\n",
    "    print(h)\n",
    "\n",
    "#print(seg.cut(h))"
   ]
  }
 ],
 "metadata": {
  "kernelspec": {
   "display_name": "Python 3",
   "language": "python",
   "name": "python3"
  },
  "language_info": {
   "codemirror_mode": {
    "name": "ipython",
    "version": 3
   },
   "file_extension": ".py",
   "mimetype": "text/x-python",
   "name": "python",
   "nbconvert_exporter": "python",
   "pygments_lexer": "ipython3",
   "version": "3.7.0"
  }
 },
 "nbformat": 4,
 "nbformat_minor": 2
}
