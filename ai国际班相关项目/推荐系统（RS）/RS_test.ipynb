{
 "cells": [
  {
   "cell_type": "code",
   "execution_count": 45,
   "metadata": {},
   "outputs": [
    {
     "name": "stdout",
     "output_type": "stream",
     "text": [
      "{'苹果': {'香蕉': 0.5773502691896258, '西瓜': 0.5773502691896258, '⻄⽠': 0.4082482904638631, '⾹蕉': 0.3333333333333333, '菠萝': 0.4082482904638631}, '香蕉': {'苹果': 0.5773502691896258, '西瓜': 1.0}, '西瓜': {'苹果': 0.5773502691896258, '香蕉': 1.0}, '⻄⽠': {'苹果': 0.4082482904638631, '⾹蕉': 0.4082482904638631}, '⾹蕉': {'苹果': 0.3333333333333333, '菠萝': 0.4082482904638631, '葡萄': 0.4082482904638631, '⻄⽠': 0.4082482904638631}, '菠萝': {'苹果': 0.4082482904638631, '⾹蕉': 0.4082482904638631, '葡萄': 0.5}, '葡萄': {'⾹蕉': 0.4082482904638631, '菠萝': 0.5}}\n",
      "\n"
     ]
    }
   ],
   "source": [
    "##基本协同算法\n",
    "\n",
    "##基于物品的协同算法\n",
    "\n",
    "##1、基于共同喜欢物品的用户列表计算\n",
    "##ItemCF算法\n",
    "import math\n",
    "import pandas as pd\n",
    "def ItemSimilarity(train):\n",
    "    C = dict()   ##同时被购买的次数\n",
    "    N = dict()   ##购买用户数\n",
    "    for u,items in train.items():\n",
    "        for i in items.keys():\n",
    "            if i not in N.keys():\n",
    "                N[i] = 0\n",
    "            N[i] += 1\n",
    "            for j in items.keys():\n",
    "                if i == j:\n",
    "                    continue\n",
    "                if i not in C.keys():\n",
    "                    C[i] = dict()\n",
    "                if j not in C[i].keys():\n",
    "                    C[i][j] = 0\n",
    "                ##当用户同时购买了i和j，则加1\n",
    "                C[i][j] += 1\n",
    "    W = dict()   ##相似分数\n",
    "    for i, related_items in C.items():\n",
    "        if i not in W.keys():\n",
    "            W[i] = dict()\n",
    "        for j,cij in related_items.items():\n",
    "            W[i][j] = cij / math.sqrt(N[i]*N[j])\n",
    "    return W\n",
    "\n",
    "if __name__ == '__main__':\n",
    "    Train_Data = {\n",
    "        'A':{\n",
    "            '苹果':1,'香蕉':1,'西瓜':1\n",
    "        },\n",
    "        'B':{'苹果':1,'⻄⽠':1},\n",
    "        'C':{'苹果':1,'⾹蕉':1,'菠萝':1},\n",
    "        'D':{'⾹蕉':1,'葡萄':1},\n",
    "        'E':{'葡萄':1,'菠萝':1},\n",
    "        'F':{'⾹蕉':1,'⻄⽠':1}\n",
    "    }\n",
    "    W = ItemSimilarity(Train_Data)\n",
    "    print(W)\n",
    "    print()\n",
    "    "
   ]
  },
  {
   "cell_type": "code",
   "execution_count": null,
   "metadata": {},
   "outputs": [],
   "source": [
    "#将字典转换成DataFrame格式再存入excel表格\n",
    "frame = pd.DataFrame(W)\n",
    "print(frame)\n",
    "frame.to_excel('test.xlsx')"
   ]
  },
  {
   "cell_type": "code",
   "execution_count": 56,
   "metadata": {},
   "outputs": [
    {
     "name": "stdout",
     "output_type": "stream",
     "text": [
      "[{'香蕉': 0.5773502691896258, '西瓜': 0.5773502691896258, '⻄⽠': 0.4082482904638631, '⾹蕉': 0.3333333333333333, '菠萝': 0.4082482904638631}, {'苹果': 0.5773502691896258, '西瓜': 1.0}, {'苹果': 0.5773502691896258, '香蕉': 1.0}, {'苹果': 0.4082482904638631, '⾹蕉': 0.4082482904638631}, {'苹果': 0.3333333333333333, '菠萝': 0.4082482904638631, '葡萄': 0.4082482904638631, '⻄⽠': 0.4082482904638631}, {'苹果': 0.4082482904638631, '⾹蕉': 0.4082482904638631, '葡萄': 0.5}, {'⾹蕉': 0.4082482904638631, '菠萝': 0.5}]\n",
      "{'香蕉': 0.5773502691896258, '西瓜': 0.5773502691896258, '⻄⽠': 0.4082482904638631, '⾹蕉': 0.3333333333333333, '菠萝': 0.4082482904638631}\n",
      "{'苹果': 0.5773502691896258, '西瓜': 1.0}\n",
      "{'苹果': 0.5773502691896258, '香蕉': 1.0}\n",
      "{'苹果': 0.4082482904638631, '⾹蕉': 0.4082482904638631}\n",
      "{'苹果': 0.3333333333333333, '菠萝': 0.4082482904638631, '葡萄': 0.4082482904638631, '⻄⽠': 0.4082482904638631}\n",
      "{'苹果': 0.4082482904638631, '⾹蕉': 0.4082482904638631, '葡萄': 0.5}\n",
      "{'⾹蕉': 0.4082482904638631, '菠萝': 0.5}\n"
     ]
    }
   ],
   "source": [
    "list = [W]\n",
    " \n",
    "res = [item[key] for item in list for key in item]\n",
    "print(res)\n",
    "for item in list:\n",
    "    for key in item:\n",
    "        print(item[key])"
   ]
  },
  {
   "cell_type": "code",
   "execution_count": 55,
   "metadata": {},
   "outputs": [
    {
     "data": {
      "text/plain": [
       "False"
      ]
     },
     "execution_count": 55,
     "metadata": {},
     "output_type": "execute_result"
    }
   ],
   "source": [
    "isinstance(W, dict)"
   ]
  },
  {
   "cell_type": "code",
   "execution_count": 41,
   "metadata": {},
   "outputs": [
    {
     "name": "stdout",
     "output_type": "stream",
     "text": [
      "{'苹果': {'⾹蕉': 0.5773502691896258, '⻄⽠': 0.6666666666666667, '菠萝': 0.40824829046386296}, '⾹蕉': {'苹果': 0.5773502691896258, '⻄⽠': 0.5773502691896258, '菠萝': 0.35355339059327373, '葡萄': 0.35355339059327373}, '⻄⽠': {'苹果': 0.6666666666666667, '⾹蕉': 0.5773502691896258}, '菠萝': {'苹果': 0.40824829046386296, '⾹蕉': 0.35355339059327373, '葡萄': 0.4999999999999999}, '葡萄': {'⾹蕉': 0.35355339059327373, '菠萝': 0.4999999999999999}}\n"
     ]
    }
   ],
   "source": [
    "##2、引入评分：基于余弦（Consine-based）的相似度计算\n",
    "## ItemCF-余弦算法\n",
    "import math\n",
    "def ItemSimilarity_cos(train):\n",
    "    C = dict()   ##同时购买的次数\n",
    "    N = dict()   #购买的用户数\n",
    "    for u,items in train.items():\n",
    "        for i in items.keys():\n",
    "            if i not in N.keys():\n",
    "                N[i] = 0\n",
    "            N[i] += items[i]* items[i]\n",
    "            for j in items.keys():\n",
    "                if i == j:\n",
    "                    continue\n",
    "                if i not in C.keys():\n",
    "                    C[i] = dict()\n",
    "                if j not in C[i].keys():\n",
    "                    C[i][j] = 0\n",
    "                ##当用户同时购买了i和j，则加评分乘积\n",
    "                C[i][j] += items[i] * items[j]\n",
    "            \n",
    "    W = dict() ##相似分数\n",
    "    for i,related_items in C.items():\n",
    "        if i not in W.keys():\n",
    "            W[i]=dict()\n",
    "        for j,cij in related_items.items():\n",
    "            W[i][j] = cij / (math.sqrt( N[i])*math.sqrt( N[j]))\n",
    "    return W\n",
    "\n",
    "if __name__ == '__main__':\n",
    "    Train_Data = {\n",
    "        'A':{\n",
    "            '苹果':2,'⾹蕉':2,'⻄⽠':2\n",
    "        },\n",
    "        'B':{'苹果':2,'⻄⽠':2},\n",
    "        'C':{'苹果':2,'⾹蕉':2,'菠萝':2},\n",
    "        'D':{'⾹蕉':2,'葡萄':2},\n",
    "        'E':{'葡萄':2,'菠萝':2},\n",
    "        'F':{'⾹蕉':2,'⻄⽠':2}\n",
    "    }\n",
    "    W= ItemSimilarity_cos(Train_Data)\n",
    "    print(W)"
   ]
  },
  {
   "cell_type": "code",
   "execution_count": 43,
   "metadata": {},
   "outputs": [
    {
     "name": "stdout",
     "output_type": "stream",
     "text": [
      "{'苹果': {'⾹蕉': 0.5450691787846755, '⻄⽠': 0.6666666666666666, '菠萝': 0.44273374664777815}, '⾹蕉': {'苹果': 0.6115431697616012, '⻄⽠': 0.6115431697616012, '菠萝': 0.40612619817811785, '葡萄': 0.40612619817811785}, '⻄⽠': {'苹果': 0.6666666666666666, '⾹蕉': 0.5450691787846755}, '菠萝': {'苹果': 0.3764489784856185, '⾹蕉': 0.3077861033362291, '葡萄': 0.5}, '葡萄': {'⾹蕉': 0.3077861033362291, '菠萝': 0.5}}\n"
     ]
    }
   ],
   "source": [
    "##3、热门物品的惩罚\n",
    "##改进算法\n",
    "import math\n",
    "def ItemSimilarity_alpha(train,alpha=0.3):\n",
    "    C = dict() ##同时被购买的次数\n",
    "    N = dict() ##被购买⽤户数\n",
    "    for u,items in train.items():\n",
    "        for i in items.keys():\n",
    "            if i not in N.keys():\n",
    "                N[i]=0\n",
    "            N[i] += 1\n",
    "            for j in items.keys():\n",
    "                if i == j:\n",
    "                    continue\n",
    "                if i not in C.keys():\n",
    "                    C[i]=dict()\n",
    "                if j not in C[i].keys():\n",
    "                    C[i][j]=0\n",
    "                ##当⽤户同时购买了i和j，则加1\n",
    "                C[i][j] += 1\n",
    "    W = dict() ##相似分数\n",
    "    for i,related_items in C.items():\n",
    "        if i not in W.keys():\n",
    "            W[i]=dict()\n",
    "        for j,cij in related_items.items():\n",
    "            W[i][j] = cij /(math.pow(N[i],alpha)*math.pow(N[j],1-alpha) )\n",
    "    return W\n",
    "\n",
    "\n",
    "if __name__ == '__main__':\n",
    "    Train_Data = {\n",
    "        'A':{\n",
    "            '苹果':1,'⾹蕉':1,'⻄⽠':1\n",
    "        },\n",
    "        'B':{'苹果':1,'⻄⽠':1},\n",
    "        'C':{'苹果':1,'⾹蕉':1,'菠萝':1},\n",
    "        'D':{'⾹蕉':1,'葡萄':1},\n",
    "        'E':{'葡萄':1,'菠萝':1},\n",
    "        'F':{'⾹蕉':1,'⻄⽠':1}\n",
    "    }\n",
    "    W= ItemSimilarity_alpha (Train_Data)\n",
    "    print(W)"
   ]
  },
  {
   "cell_type": "code",
   "execution_count": 44,
   "metadata": {},
   "outputs": [
    {
     "name": "stdout",
     "output_type": "stream",
     "text": [
      "{'⻄⽠': 1.278209836428268, '⾹蕉': 0, '菠萝': 0, '苹果': 0, '葡萄': 0.5}\n"
     ]
    }
   ],
   "source": [
    "##评测分数\n",
    "import math\n",
    "def ItemSimilarity_alpha(train,alpha=0.3):\n",
    "    C = dict() ##被购买的次数\n",
    "    N = dict() ##被购买⽤户数\n",
    "    for u,items in train.items():\n",
    "        for i in items.keys():\n",
    "            if i not in N.keys():\n",
    "                N[i]=0\n",
    "            N[i] += 1\n",
    "            for j in items.keys():\n",
    "                if i == j:\n",
    "                    continue\n",
    "                if i not in C.keys():\n",
    "                    C[i]=dict()\n",
    "                if j not in C[i].keys():\n",
    "                    C[i][j]=0\n",
    "                ##当⽤户同时购买了i和j，则加1\n",
    "                C[i][j] += 1\n",
    "    W = dict() ##相似分数\n",
    "    for i,related_items in C.items():\n",
    "        if i not in W.keys():\n",
    "            W[i]=dict()\n",
    "        for j,cij in related_items.items():\n",
    "            W[i][j] = cij /(math.pow(N[i],alpha)*math.pow(N[j],1-alpha) )\n",
    "    return W\n",
    "\n",
    "\n",
    "def Recommend(train,user_id,W,K):\n",
    "    rank = dict()\n",
    "    ru = train[user_id]\n",
    "    for i,pi in ru.items():\n",
    "        tmp=W[i]\n",
    "        for j,wj in sorted(tmp.items(),key=lambda d:d[1],reverse=True)[0:K]:\n",
    "            if j not in rank.keys():\n",
    "                rank[j]=0\n",
    "            ##r如果⽤户已经购买过，则不再推荐\n",
    "            if j in ru:\n",
    "                continue\n",
    "            ##待推荐的物品j与⽤户已购买的物品i相似，则累加上相似分数\n",
    "            rank[j] += pi*wj\n",
    "    return rank\n",
    "if __name__ == '__main__':\n",
    "    Train_Data = {\n",
    "            'A':{\n",
    "                '苹果':1,'⾹蕉':1,'⻄⽠':1\n",
    "            },\n",
    "            'B':{'苹果':1,'⻄⽠':1},\n",
    "            'C':{'苹果':1,'⾹蕉':1,'菠萝':1},\n",
    "            'D':{'⾹蕉':1,'葡萄':1},\n",
    "            'E':{'葡萄':1,'菠萝':1},\n",
    "            'F':{'⾹蕉':1,'⻄⽠':1}\n",
    "    }\n",
    "    W=ItemSimilarity_alpha(Train_Data)\n",
    "    print(Recommend(Train_Data,'C',W,3) )\n",
    "## {'⻄⽠': 1.278209836428268, '⾹蕉': 0, '菠萝': 0, '苹果': 0, '葡萄': 0.5}"
   ]
  },
  {
   "cell_type": "code",
   "execution_count": 58,
   "metadata": {},
   "outputs": [
    {
     "ename": "SyntaxError",
     "evalue": "invalid syntax (<ipython-input-58-eb7e0b6fb7e3>, line 9)",
     "output_type": "error",
     "traceback": [
      "\u001b[1;36m  File \u001b[1;32m\"<ipython-input-58-eb7e0b6fb7e3>\"\u001b[1;36m, line \u001b[1;32m9\u001b[0m\n\u001b[1;33m    DictItem[i[0]]key=i[1]\u001b[0m\n\u001b[1;37m                    ^\u001b[0m\n\u001b[1;31mSyntaxError\u001b[0m\u001b[1;31m:\u001b[0m invalid syntax\n"
     ]
    }
   ],
   "source": [
    "##基于用户的协同算法\n",
    "\n",
    "def defItemIndex(DictUser):\n",
    "    DictItem = defaultdict(defaultdict)\n",
    "    ##遍历每个用户\n",
    "    for key in DictUser:\n",
    "        ##遍历用户k的购买记录\n",
    "        for i in DictUser[key]:\n",
    "            DictItem[i[0]]key=i[1]\n",
    "    return DictItem\n",
    "\n",
    "def defUserSimilarity(DictItem):\n",
    "    N = dict   ##用户购买的数量\n",
    "    C = Defaultdict(defaultdict)\n",
    "    W = defaultdict(defaultdict)\n",
    "    ##遍历每个物品\n",
    "    for key in DictItem:\n",
    "        ##遍历用户k购买过的物品\n",
    "        for i in DictItem[key]:\n",
    "            #i[0]表示用户的id，如果未计算过，则初始化为0\n",
    "            if i[0] not in N.keys():\n",
    "                N[i[0]] = 0\n",
    "            N[i[0]] += 1\n",
    "            ##（i，j）是物品k同时被购买的用户两两配对\n",
    "            \n",
    "            for j in DictItem[key]:\n",
    "                if i(0) == j(0):\n",
    "                    continue\n",
    "                if j[0] not in C[i[0]].keys():\n",
    "                    C[i[0]j[0]] = 0\n",
    "                #C[i[0]j[0]]表示用户i和j购买同样物品的数量\n",
    "                \n",
    "                C[i[0]j[0]] += 1\n",
    "        for i, related_user in C.items():\n",
    "            for j,cij in related_user.items():\n",
    "                W[i][j] = cij/math.sqrt(N[i]*N[j])\n",
    "        return W\n"
   ]
  },
  {
   "cell_type": "code",
   "execution_count": 61,
   "metadata": {},
   "outputs": [
    {
     "name": "stdout",
     "output_type": "stream",
     "text": [
      "{'苹果': {'⾹蕉': 0.5450691787846755, '⻄⽠': 0.6666666666666666, '菠萝': 0.44273374664777815}, '⾹蕉': {'苹果': 0.6115431697616012, '⻄⽠': 0.6115431697616012, '菠萝': 0.40612619817811785, '葡萄': 0.40612619817811785}, '⻄⽠': {'苹果': 0.6666666666666666, '⾹蕉': 0.5450691787846755}, '菠萝': {'苹果': 0.3764489784856185, '⾹蕉': 0.3077861033362291, '葡萄': 0.5}, '葡萄': {'⾹蕉': 0.3077861033362291, '菠萝': 0.5}}\n"
     ]
    }
   ],
   "source": [
    "from collections import defaultdict\n",
    "import math\n",
    "def defItemIndex(DictUser):\n",
    "    DictItem = defaultdict(defaultdict)\n",
    "    ##遍历每个用户\n",
    "    for key in DictUser:\n",
    "        ##遍历用户k的购买记录\n",
    "        for i in DictUser[key]:\n",
    "            DictItem[i][key]=[key,DictUser[key][i]]\n",
    "    return DictItem\n",
    "\n",
    "def defUserSimilarity(DictItem):\n",
    "    N = dict   ##用户购买的数量\n",
    "    C = Defaultdict(defaultdict)\n",
    "    W = defaultdict(defaultdict)\n",
    "    ##遍历每个物品\n",
    "    for key in DictItem:\n",
    "        ##遍历用户k购买过的物品\n",
    "        #print(key, \":\")\n",
    "        for x in DictItem[key]:\n",
    "            i = DictItem[key][x]\n",
    "            #i[0]表示用户的id，如果未计算过，则初始化为0\n",
    "            if i[0] not in N.keys():\n",
    "                N[i[0]] = 0\n",
    "            N[i[0]] += 1\n",
    "            ##（i，j）是物品k同时被购买的用户两两配对\n",
    "            \n",
    "            for j in DictItem[key]:\n",
    "                if i(0) == j(0):\n",
    "                    continue\n",
    "                if j[0] not in C[i[0]].keys():\n",
    "                    C[i[0]][j[0]] = 0\n",
    "                #C[i[0]j[0]]表示用户i和j购买同样物品的数量\n",
    "                \n",
    "                C[i[0]][j[0]] += 1\n",
    "        for i, related_user in C.items():\n",
    "            for j,cij in related_user.items():\n",
    "                W[i][j] = cij/math.sqrt(N[i]*N[j])\n",
    "        return W\n",
    "\n",
    "if __name__ == '__main__':\n",
    "    Train_Data = {\n",
    "        'A':{\n",
    "            '苹果':1,'⾹蕉':1,'⻄⽠':1\n",
    "        },\n",
    "        'B':{'苹果':1,'⻄⽠':1},\n",
    "        'C':{'苹果':1,'⾹蕉':1,'菠萝':1},\n",
    "        'D':{'⾹蕉':1,'葡萄':1},\n",
    "        'E':{'葡萄':1,'菠萝':1},\n",
    "        'F':{'⾹蕉':1,'⻄⽠':1}\n",
    "    }\n",
    "    W= ItemSimilarity_alpha (Train_Data)\n",
    "    print(W)"
   ]
  }
 ],
 "metadata": {
  "kernelspec": {
   "display_name": "Python 3",
   "language": "python",
   "name": "python3"
  },
  "language_info": {
   "codemirror_mode": {
    "name": "ipython",
    "version": 3
   },
   "file_extension": ".py",
   "mimetype": "text/x-python",
   "name": "python",
   "nbconvert_exporter": "python",
   "pygments_lexer": "ipython3",
   "version": "3.7.0"
  }
 },
 "nbformat": 4,
 "nbformat_minor": 2
}
